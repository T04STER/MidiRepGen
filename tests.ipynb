{
 "cells": [
  {
   "cell_type": "code",
   "execution_count": 1,
   "id": "6b75ae27",
   "metadata": {},
   "outputs": [],
   "source": [
    "import torch\n",
    "import torch.nn as nn\n",
    "from torch.utils.data import DataLoader"
   ]
  },
  {
   "cell_type": "code",
   "execution_count": 2,
   "id": "dd71ca8e",
   "metadata": {},
   "outputs": [],
   "source": [
    "def loss_fn(output, target):\n",
    "    pitch_loss = nn.CrossEntropyLoss()(\n",
    "        output['pitch'].reshape(-1, output['pitch'].shape[-1]),\n",
    "        target[:, :, 0].reshape(-1).long()  # <-- cast to long\n",
    "    )\n",
    "    mse_loss = nn.MSELoss()\n",
    "    \n",
    "    velocity_loss = mse_loss(\n",
    "        output['velocity'].reshape(-1, output['velocity'].shape[-1]),\n",
    "        target[:, :, 1].reshape(-1, 1)\n",
    "    )\n",
    "    time_loss = mse_loss(\n",
    "        output['time'].reshape(-1, output['time'].shape[-1]),\n",
    "        target[:, :, 2].reshape(-1, 1)\n",
    "    )\n",
    "    duration_loss = mse_loss(\n",
    "        output['duration'].reshape(-1, output['duration'].shape[-1]),\n",
    "        target[:, :, 3].reshape(-1, 1)\n",
    "    )\n",
    "\n",
    "    return pitch_loss + velocity_loss + time_loss + duration_loss\n"
   ]
  },
  {
   "cell_type": "code",
   "execution_count": 3,
   "id": "7a033a69",
   "metadata": {},
   "outputs": [],
   "source": [
    "from src.models.GRU import GRUAutoencoder\n",
    "from src.dataloader import EventMidiDataset"
   ]
  },
  {
   "cell_type": "code",
   "execution_count": 4,
   "id": "e19b6826",
   "metadata": {},
   "outputs": [],
   "source": [
    "import os\n",
    "from tqdm import tqdm"
   ]
  },
  {
   "cell_type": "code",
   "execution_count": 5,
   "id": "9cf031e3",
   "metadata": {},
   "outputs": [],
   "source": [
    "folder_path = 'data/midi_dataset/midis'\n",
    "file_names = os.listdir(folder_path)\n",
    "file_names = [os.path.join(folder_path, f) for f in file_names]"
   ]
  },
  {
   "cell_type": "code",
   "execution_count": 6,
   "id": "f8bf139c",
   "metadata": {},
   "outputs": [],
   "source": [
    "model = GRUAutoencoder().cuda()\n",
    "optimizer = torch.optim.Adam(model.parameters(), lr=1e-3)"
   ]
  },
  {
   "cell_type": "code",
   "execution_count": 7,
   "id": "77fbdf7c",
   "metadata": {},
   "outputs": [],
   "source": [
    "dataset = EventMidiDataset(file_names[:1000])\n",
    "\n",
    "midi_dataloader = DataLoader(\n",
    "    dataset,\n",
    "    batch_size=16,\n",
    "    pin_memory=True,\n",
    "    num_workers=4,\n",
    "    shuffle=True,\n",
    ")"
   ]
  },
  {
   "cell_type": "code",
   "execution_count": 11,
   "id": "a1cc1f80",
   "metadata": {},
   "outputs": [
    {
     "name": "stdout",
     "output_type": "stream",
     "text": [
      "Max values across all batches (pitch, velocity, time, duration): tensor([105.0000,   0.9370, 233.6133,   6.0052])\n",
      "Min values across all batches (pitch, velocity, time, duration): tensor([2.2000e+01, 3.1496e-02, 0.0000e+00, 1.3021e-03])\n"
     ]
    }
   ],
   "source": [
    "max_vals = None\n",
    "min_vals = None\n",
    "\n",
    "for X_batch in midi_dataloader:\n",
    "    batch_max = X_batch.view(-1, X_batch.shape[-1]).max(dim=0).values\n",
    "    batch_min = X_batch.view(-1, X_batch.shape[-1]).min(dim=0).values\n",
    "\n",
    "    if max_vals is None:\n",
    "        max_vals = batch_max\n",
    "        min_vals = batch_min\n",
    "    else:\n",
    "        max_vals = torch.max(max_vals, batch_max)\n",
    "        min_vals = torch.min(min_vals, batch_min)\n",
    "\n",
    "print(\"Max values across all batches (pitch, velocity, time, duration):\", max_vals)\n",
    "print(\"Min values across all batches (pitch, velocity, time, duration):\", min_vals)\n"
   ]
  },
  {
   "cell_type": "code",
   "execution_count": null,
   "id": "701ac27a",
   "metadata": {},
   "outputs": [],
   "source": [
    "def fit(dataloader, model, optimizer, loss_fn, epochs=50):\n",
    "    for _ in range(epochs):\n",
    "        for X_batch in tqdm(dataloader):\n",
    "            X_batch = X_batch.cuda()\n",
    "\n",
    "            input_seq = X_batch[:, :-1]\n",
    "            target_seq = X_batch[:, 1:]\n",
    "\n",
    "            logits = model(input_seq)\n",
    "            loss = loss_fn(logits, target_seq)\n",
    "\n",
    "            optimizer.zero_grad()\n",
    "            loss.backward()\n",
    "            optimizer.step()"
   ]
  },
  {
   "cell_type": "code",
   "execution_count": null,
   "id": "967fc925",
   "metadata": {},
   "outputs": [
    {
     "name": "stderr",
     "output_type": "stream",
     "text": [
      "  0%|          | 0/23224 [00:15<?, ?it/s]\n"
     ]
    },
    {
     "ename": "RuntimeError",
     "evalue": "Expected all tensors to be on the same device, but found at least two devices, cpu and cuda:0! (when checking argument for argument mat2 in method wrapper_CUDA_mm)",
     "output_type": "error",
     "traceback": [
      "\u001b[31m---------------------------------------------------------------------------\u001b[39m",
      "\u001b[31mRuntimeError\u001b[39m                              Traceback (most recent call last)",
      "\u001b[36mCell\u001b[39m\u001b[36m \u001b[39m\u001b[32mIn[10]\u001b[39m\u001b[32m, line 1\u001b[39m\n\u001b[32m----> \u001b[39m\u001b[32m1\u001b[39m \u001b[43mfit\u001b[49m\u001b[43m(\u001b[49m\u001b[43mmidi_dataloader\u001b[49m\u001b[43m,\u001b[49m\u001b[43m \u001b[49m\u001b[43mmodel\u001b[49m\u001b[43m,\u001b[49m\u001b[43m \u001b[49m\u001b[43moptimizer\u001b[49m\u001b[43m,\u001b[49m\u001b[43m \u001b[49m\u001b[43mloss_fn\u001b[49m\u001b[43m,\u001b[49m\u001b[43m \u001b[49m\u001b[32;43m10\u001b[39;49m\u001b[43m)\u001b[49m\n",
      "\u001b[36mCell\u001b[39m\u001b[36m \u001b[39m\u001b[32mIn[9]\u001b[39m\u001b[32m, line 9\u001b[39m, in \u001b[36mfit\u001b[39m\u001b[34m(dataloader, model, optimizer, loss_fn, epochs)\u001b[39m\n\u001b[32m      6\u001b[39m input_seq = X_batch[:, :-\u001b[32m1\u001b[39m]\n\u001b[32m      7\u001b[39m target_seq = X_batch[:, \u001b[32m1\u001b[39m:]\n\u001b[32m----> \u001b[39m\u001b[32m9\u001b[39m logits = \u001b[43mmodel\u001b[49m\u001b[43m(\u001b[49m\u001b[43minput_seq\u001b[49m\u001b[43m)\u001b[49m\n\u001b[32m     10\u001b[39m loss = loss_fn(logits, target_seq)\n\u001b[32m     12\u001b[39m optimizer.zero_grad()\n",
      "\u001b[36mFile \u001b[39m\u001b[32mc:\\Users\\PC\\Desktop\\bartek\\MidiRepGen\\.venv\\Lib\\site-packages\\torch\\nn\\modules\\module.py:1751\u001b[39m, in \u001b[36mModule._wrapped_call_impl\u001b[39m\u001b[34m(self, *args, **kwargs)\u001b[39m\n\u001b[32m   1749\u001b[39m     \u001b[38;5;28;01mreturn\u001b[39;00m \u001b[38;5;28mself\u001b[39m._compiled_call_impl(*args, **kwargs)  \u001b[38;5;66;03m# type: ignore[misc]\u001b[39;00m\n\u001b[32m   1750\u001b[39m \u001b[38;5;28;01melse\u001b[39;00m:\n\u001b[32m-> \u001b[39m\u001b[32m1751\u001b[39m     \u001b[38;5;28;01mreturn\u001b[39;00m \u001b[38;5;28;43mself\u001b[39;49m\u001b[43m.\u001b[49m\u001b[43m_call_impl\u001b[49m\u001b[43m(\u001b[49m\u001b[43m*\u001b[49m\u001b[43margs\u001b[49m\u001b[43m,\u001b[49m\u001b[43m \u001b[49m\u001b[43m*\u001b[49m\u001b[43m*\u001b[49m\u001b[43mkwargs\u001b[49m\u001b[43m)\u001b[49m\n",
      "\u001b[36mFile \u001b[39m\u001b[32mc:\\Users\\PC\\Desktop\\bartek\\MidiRepGen\\.venv\\Lib\\site-packages\\torch\\nn\\modules\\module.py:1762\u001b[39m, in \u001b[36mModule._call_impl\u001b[39m\u001b[34m(self, *args, **kwargs)\u001b[39m\n\u001b[32m   1757\u001b[39m \u001b[38;5;66;03m# If we don't have any hooks, we want to skip the rest of the logic in\u001b[39;00m\n\u001b[32m   1758\u001b[39m \u001b[38;5;66;03m# this function, and just call forward.\u001b[39;00m\n\u001b[32m   1759\u001b[39m \u001b[38;5;28;01mif\u001b[39;00m \u001b[38;5;129;01mnot\u001b[39;00m (\u001b[38;5;28mself\u001b[39m._backward_hooks \u001b[38;5;129;01mor\u001b[39;00m \u001b[38;5;28mself\u001b[39m._backward_pre_hooks \u001b[38;5;129;01mor\u001b[39;00m \u001b[38;5;28mself\u001b[39m._forward_hooks \u001b[38;5;129;01mor\u001b[39;00m \u001b[38;5;28mself\u001b[39m._forward_pre_hooks\n\u001b[32m   1760\u001b[39m         \u001b[38;5;129;01mor\u001b[39;00m _global_backward_pre_hooks \u001b[38;5;129;01mor\u001b[39;00m _global_backward_hooks\n\u001b[32m   1761\u001b[39m         \u001b[38;5;129;01mor\u001b[39;00m _global_forward_hooks \u001b[38;5;129;01mor\u001b[39;00m _global_forward_pre_hooks):\n\u001b[32m-> \u001b[39m\u001b[32m1762\u001b[39m     \u001b[38;5;28;01mreturn\u001b[39;00m \u001b[43mforward_call\u001b[49m\u001b[43m(\u001b[49m\u001b[43m*\u001b[49m\u001b[43margs\u001b[49m\u001b[43m,\u001b[49m\u001b[43m \u001b[49m\u001b[43m*\u001b[49m\u001b[43m*\u001b[49m\u001b[43mkwargs\u001b[49m\u001b[43m)\u001b[49m\n\u001b[32m   1764\u001b[39m result = \u001b[38;5;28;01mNone\u001b[39;00m\n\u001b[32m   1765\u001b[39m called_always_called_hooks = \u001b[38;5;28mset\u001b[39m()\n",
      "\u001b[36mFile \u001b[39m\u001b[32mc:\\Users\\PC\\Desktop\\bartek\\MidiRepGen\\src\\models\\GRU\\GRU_ae.py:29\u001b[39m, in \u001b[36mGRUAutoencoder.forward\u001b[39m\u001b[34m(self, x)\u001b[39m\n\u001b[32m     24\u001b[39m \u001b[38;5;28;01mdef\u001b[39;00m\u001b[38;5;250m \u001b[39m\u001b[34mforward\u001b[39m(\u001b[38;5;28mself\u001b[39m, x):\n\u001b[32m     25\u001b[39m     pitch, velocity, time, duration = x[:,:,\u001b[32m0\u001b[39m], x[:,:,\u001b[32m1\u001b[39m], x[:,:,\u001b[32m2\u001b[39m], x[:,:,\u001b[32m3\u001b[39m]\n\u001b[32m     27\u001b[39m     emb = (\n\u001b[32m     28\u001b[39m         \u001b[38;5;28mself\u001b[39m.pitch_embedding(pitch.long().cuda())\n\u001b[32m---> \u001b[39m\u001b[32m29\u001b[39m         + \u001b[38;5;28;43mself\u001b[39;49m\u001b[43m.\u001b[49m\u001b[43mvelocity_proj\u001b[49m\u001b[43m(\u001b[49m\u001b[43mvelocity\u001b[49m\u001b[43m.\u001b[49m\u001b[43munsqueeze\u001b[49m\u001b[43m(\u001b[49m\u001b[43m-\u001b[49m\u001b[32;43m1\u001b[39;49m\u001b[43m)\u001b[49m\u001b[43m)\u001b[49m\n\u001b[32m     30\u001b[39m         + \u001b[38;5;28mself\u001b[39m.time_proj(time.unsqueeze(-\u001b[32m1\u001b[39m))\n\u001b[32m     31\u001b[39m         + \u001b[38;5;28mself\u001b[39m.duration_proj(duration.unsqueeze(-\u001b[32m1\u001b[39m))\n\u001b[32m     32\u001b[39m     )\n\u001b[32m     34\u001b[39m     _, h_n = \u001b[38;5;28mself\u001b[39m.encoder_gru(emb)\n\u001b[32m     35\u001b[39m     latent = \u001b[38;5;28mself\u001b[39m.latent_proj(h_n[-\u001b[32m1\u001b[39m])\n",
      "\u001b[36mFile \u001b[39m\u001b[32mc:\\Users\\PC\\Desktop\\bartek\\MidiRepGen\\.venv\\Lib\\site-packages\\torch\\nn\\modules\\module.py:1751\u001b[39m, in \u001b[36mModule._wrapped_call_impl\u001b[39m\u001b[34m(self, *args, **kwargs)\u001b[39m\n\u001b[32m   1749\u001b[39m     \u001b[38;5;28;01mreturn\u001b[39;00m \u001b[38;5;28mself\u001b[39m._compiled_call_impl(*args, **kwargs)  \u001b[38;5;66;03m# type: ignore[misc]\u001b[39;00m\n\u001b[32m   1750\u001b[39m \u001b[38;5;28;01melse\u001b[39;00m:\n\u001b[32m-> \u001b[39m\u001b[32m1751\u001b[39m     \u001b[38;5;28;01mreturn\u001b[39;00m \u001b[38;5;28;43mself\u001b[39;49m\u001b[43m.\u001b[49m\u001b[43m_call_impl\u001b[49m\u001b[43m(\u001b[49m\u001b[43m*\u001b[49m\u001b[43margs\u001b[49m\u001b[43m,\u001b[49m\u001b[43m \u001b[49m\u001b[43m*\u001b[49m\u001b[43m*\u001b[49m\u001b[43mkwargs\u001b[49m\u001b[43m)\u001b[49m\n",
      "\u001b[36mFile \u001b[39m\u001b[32mc:\\Users\\PC\\Desktop\\bartek\\MidiRepGen\\.venv\\Lib\\site-packages\\torch\\nn\\modules\\module.py:1762\u001b[39m, in \u001b[36mModule._call_impl\u001b[39m\u001b[34m(self, *args, **kwargs)\u001b[39m\n\u001b[32m   1757\u001b[39m \u001b[38;5;66;03m# If we don't have any hooks, we want to skip the rest of the logic in\u001b[39;00m\n\u001b[32m   1758\u001b[39m \u001b[38;5;66;03m# this function, and just call forward.\u001b[39;00m\n\u001b[32m   1759\u001b[39m \u001b[38;5;28;01mif\u001b[39;00m \u001b[38;5;129;01mnot\u001b[39;00m (\u001b[38;5;28mself\u001b[39m._backward_hooks \u001b[38;5;129;01mor\u001b[39;00m \u001b[38;5;28mself\u001b[39m._backward_pre_hooks \u001b[38;5;129;01mor\u001b[39;00m \u001b[38;5;28mself\u001b[39m._forward_hooks \u001b[38;5;129;01mor\u001b[39;00m \u001b[38;5;28mself\u001b[39m._forward_pre_hooks\n\u001b[32m   1760\u001b[39m         \u001b[38;5;129;01mor\u001b[39;00m _global_backward_pre_hooks \u001b[38;5;129;01mor\u001b[39;00m _global_backward_hooks\n\u001b[32m   1761\u001b[39m         \u001b[38;5;129;01mor\u001b[39;00m _global_forward_hooks \u001b[38;5;129;01mor\u001b[39;00m _global_forward_pre_hooks):\n\u001b[32m-> \u001b[39m\u001b[32m1762\u001b[39m     \u001b[38;5;28;01mreturn\u001b[39;00m \u001b[43mforward_call\u001b[49m\u001b[43m(\u001b[49m\u001b[43m*\u001b[49m\u001b[43margs\u001b[49m\u001b[43m,\u001b[49m\u001b[43m \u001b[49m\u001b[43m*\u001b[49m\u001b[43m*\u001b[49m\u001b[43mkwargs\u001b[49m\u001b[43m)\u001b[49m\n\u001b[32m   1764\u001b[39m result = \u001b[38;5;28;01mNone\u001b[39;00m\n\u001b[32m   1765\u001b[39m called_always_called_hooks = \u001b[38;5;28mset\u001b[39m()\n",
      "\u001b[36mFile \u001b[39m\u001b[32mc:\\Users\\PC\\Desktop\\bartek\\MidiRepGen\\.venv\\Lib\\site-packages\\torch\\nn\\modules\\linear.py:125\u001b[39m, in \u001b[36mLinear.forward\u001b[39m\u001b[34m(self, input)\u001b[39m\n\u001b[32m    124\u001b[39m \u001b[38;5;28;01mdef\u001b[39;00m\u001b[38;5;250m \u001b[39m\u001b[34mforward\u001b[39m(\u001b[38;5;28mself\u001b[39m, \u001b[38;5;28minput\u001b[39m: Tensor) -> Tensor:\n\u001b[32m--> \u001b[39m\u001b[32m125\u001b[39m     \u001b[38;5;28;01mreturn\u001b[39;00m \u001b[43mF\u001b[49m\u001b[43m.\u001b[49m\u001b[43mlinear\u001b[49m\u001b[43m(\u001b[49m\u001b[38;5;28;43minput\u001b[39;49m\u001b[43m,\u001b[49m\u001b[43m \u001b[49m\u001b[38;5;28;43mself\u001b[39;49m\u001b[43m.\u001b[49m\u001b[43mweight\u001b[49m\u001b[43m,\u001b[49m\u001b[43m \u001b[49m\u001b[38;5;28;43mself\u001b[39;49m\u001b[43m.\u001b[49m\u001b[43mbias\u001b[49m\u001b[43m)\u001b[49m\n",
      "\u001b[31mRuntimeError\u001b[39m: Expected all tensors to be on the same device, but found at least two devices, cpu and cuda:0! (when checking argument for argument mat2 in method wrapper_CUDA_mm)"
     ]
    }
   ],
   "source": [
    "fit(midi_dataloader, model, optimizer, loss_fn, 50)"
   ]
  },
  {
   "cell_type": "code",
   "execution_count": null,
   "id": "154a1a51",
   "metadata": {},
   "outputs": [],
   "source": [
    "test_dataset = EventMidiDataset(file_names[1000:1100])\n",
    "\n",
    "test_dl = DataLoader(\n",
    "    dataset,\n",
    "    batch_size=16,\n",
    "    pin_memory=True,\n",
    "    num_workers=4,\n",
    "    shuffle=True,\n",
    ")"
   ]
  },
  {
   "cell_type": "code",
   "execution_count": null,
   "id": "28779e1d",
   "metadata": {},
   "outputs": [
    {
     "name": "stdout",
     "output_type": "stream",
     "text": [
      "Average Test Loss: 0.5023\n"
     ]
    }
   ],
   "source": [
    "total_loss = 0\n",
    "num_batches = 0\n",
    "\n",
    "model.eval()\n",
    "with torch.no_grad():\n",
    "    for X_batch in test_dl:\n",
    "        X_batch = X_batch.cuda()\n",
    "        input_seq = X_batch[:, :-1]\n",
    "        target_seq = X_batch[:, 1:]\n",
    "\n",
    "        output = model(input_seq)\n",
    "        loss = loss_fn(output, target_seq)\n",
    "\n",
    "        total_loss += loss.item()\n",
    "        num_batches += 1\n",
    "\n",
    "avg_loss = total_loss / num_batches\n",
    "print(f\"Average Test Loss: {avg_loss:.4f}\")"
   ]
  },
  {
   "cell_type": "code",
   "execution_count": null,
   "id": "5957fb0b",
   "metadata": {},
   "outputs": [],
   "source": [
    "sample = test_dataset[0]  # shape: (seq_len, 4)\n",
    "sample = sample.unsqueeze(0).cuda()  # Add batch dimension → shape: (1, seq_len, 4)"
   ]
  },
  {
   "cell_type": "code",
   "execution_count": null,
   "id": "297bfd38",
   "metadata": {},
   "outputs": [
    {
     "name": "stdout",
     "output_type": "stream",
     "text": [
      "torch.Size([1, 10]) torch.Size([14, 9, 128]) torch.Size([14, 9, 255]) torch.Size([14, 9, 64])\n"
     ]
    },
    {
     "ename": "RuntimeError",
     "evalue": "stack expects each tensor to be equal size, but got [1, 10] at entry 0 and [14, 9, 128] at entry 1",
     "output_type": "error",
     "traceback": [
      "\u001b[31m---------------------------------------------------------------------------\u001b[39m",
      "\u001b[31mRuntimeError\u001b[39m                              Traceback (most recent call last)",
      "\u001b[36mCell\u001b[39m\u001b[36m \u001b[39m\u001b[32mIn[20]\u001b[39m\u001b[32m, line 11\u001b[39m\n\u001b[32m      7\u001b[39m reconstructed_duration = output[\u001b[33m'\u001b[39m\u001b[33mduration\u001b[39m\u001b[33m'\u001b[39m].squeeze(-\u001b[32m1\u001b[39m)\n\u001b[32m      9\u001b[39m \u001b[38;5;28mprint\u001b[39m(reconstructed_pitch.shape, reconstructed_velocity.shape, reconstructed_time.shape, reconstructed_duration.shape)\n\u001b[32m---> \u001b[39m\u001b[32m11\u001b[39m reconstructed_seq = \u001b[43mtorch\u001b[49m\u001b[43m.\u001b[49m\u001b[43mstack\u001b[49m\u001b[43m(\u001b[49m\u001b[43m[\u001b[49m\n\u001b[32m     12\u001b[39m \u001b[43m    \u001b[49m\u001b[43mreconstructed_pitch\u001b[49m\u001b[43m,\u001b[49m\n\u001b[32m     13\u001b[39m \u001b[43m    \u001b[49m\u001b[43mreconstructed_velocity\u001b[49m\u001b[43m,\u001b[49m\n\u001b[32m     14\u001b[39m \u001b[43m    \u001b[49m\u001b[43mreconstructed_time\u001b[49m\u001b[43m,\u001b[49m\n\u001b[32m     15\u001b[39m \u001b[43m    \u001b[49m\u001b[43mreconstructed_duration\u001b[49m\n\u001b[32m     16\u001b[39m \u001b[43m]\u001b[49m\u001b[43m,\u001b[49m\u001b[43m \u001b[49m\u001b[43mdim\u001b[49m\u001b[43m=\u001b[49m\u001b[43m-\u001b[49m\u001b[32;43m1\u001b[39;49m\u001b[43m)\u001b[49m.squeeze(\u001b[32m0\u001b[39m)\n\u001b[32m     17\u001b[39m \u001b[38;5;28mprint\u001b[39m(\u001b[33m\"\u001b[39m\u001b[33mOriginal vs Reconstructed (first 10 steps):\u001b[39m\u001b[33m\"\u001b[39m)\n\u001b[32m     18\u001b[39m \u001b[38;5;28;01mfor\u001b[39;00m i \u001b[38;5;129;01min\u001b[39;00m \u001b[38;5;28mrange\u001b[39m(\u001b[32m10\u001b[39m):\n",
      "\u001b[31mRuntimeError\u001b[39m: stack expects each tensor to be equal size, but got [1, 10] at entry 0 and [14, 9, 128] at entry 1"
     ]
    }
   ],
   "source": [
    "model.eval()\n",
    "with torch.no_grad():\n",
    "    reconstructed = model(sample)\n",
    "reconstructed_pitch = torch.argmax(reconstructed['pitch'], dim=-1)\n",
    "reconstructed_velocity = output['velocity'].squeeze(-1)\n",
    "reconstructed_time = output['time'].squeeze(-1)\n",
    "reconstructed_duration = output['duration'].squeeze(-1)\n",
    "\n",
    "print(reconstructed_pitch.shape, reconstructed_velocity.shape, reconstructed_time.shape, reconstructed_duration.shape)\n",
    "\n",
    "reconstructed_seq = torch.stack([\n",
    "    reconstructed_pitch,\n",
    "    reconstructed_velocity,\n",
    "    reconstructed_time,\n",
    "    reconstructed_duration\n",
    "], dim=-1).squeeze(0)\n",
    "print(\"Original vs Reconstructed (first 10 steps):\")\n",
    "for i in range(10):\n",
    "    orig = sample[0, i].cpu().numpy()\n",
    "    recon = reconstructed_seq[i].cpu().numpy()\n",
    "    print(f\"{i:02d}: Orig: {orig}  |  Recon: {recon}\")\n",
    "import matplotlib.pyplot as plt\n",
    "\n",
    "fig, axs = plt.subplots(4, 1, figsize=(10, 6), sharex=True)\n",
    "labels = [\"Pitch\", \"Velocity\", \"Time\", \"Duration\"]\n",
    "\n",
    "for i in range(4):\n",
    "    axs[i].plot(sample[0, :, i].cpu(), label=\"Original\")\n",
    "    axs[i].plot(reconstructed_seq[:, i].cpu(), label=\"Reconstructed\", linestyle='--')\n",
    "    axs[i].set_ylabel(labels[i])\n",
    "    axs[i].legend()\n",
    "\n",
    "plt.xlabel(\"Time Step\")\n",
    "plt.suptitle(\"Original vs Reconstructed MIDI Features\")\n",
    "plt.tight_layout()\n",
    "plt.show()\n"
   ]
  }
 ],
 "metadata": {
  "kernelspec": {
   "display_name": ".venv",
   "language": "python",
   "name": "python3"
  },
  "language_info": {
   "codemirror_mode": {
    "name": "ipython",
    "version": 3
   },
   "file_extension": ".py",
   "mimetype": "text/x-python",
   "name": "python",
   "nbconvert_exporter": "python",
   "pygments_lexer": "ipython3",
   "version": "3.11.3"
  }
 },
 "nbformat": 4,
 "nbformat_minor": 5
}

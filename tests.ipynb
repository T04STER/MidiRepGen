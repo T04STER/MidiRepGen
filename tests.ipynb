{
 "cells": [
  {
   "cell_type": "code",
   "execution_count": 1,
   "id": "6b75ae27",
   "metadata": {},
   "outputs": [],
   "source": [
    "import torch\n",
    "import torch.nn as nn\n",
    "from torch.utils.data import DataLoader\n",
    "from src.models.GRU import GRUVAE\n",
    "from src.dataloader import EventMidiDataset\n",
    "from src.dataloader.midi_parser import piano_roll_to_pretty_midi\n",
    "import os\n",
    "from tqdm import tqdm\n",
    "from matplotlib import cm, colors as mcolors, pyplot as plt\n",
    "from matplotlib.patches import Patch\n",
    "import numpy as np\n",
    "from sklearn.decomposition import PCA"
   ]
  },
  {
   "cell_type": "code",
   "execution_count": 49,
   "id": "e71904d4",
   "metadata": {},
   "outputs": [
    {
     "data": {
      "text/plain": [
       "GRUVAE(\n",
       "  (pitch_embedding): Embedding(84, 128)\n",
       "  (velocity_proj): Linear(in_features=1, out_features=128, bias=True)\n",
       "  (time_proj): Linear(in_features=1, out_features=128, bias=True)\n",
       "  (duration_proj): Linear(in_features=1, out_features=128, bias=True)\n",
       "  (encoder_gru): GRU(128, 256, batch_first=True)\n",
       "  (fc_mu): Linear(in_features=256, out_features=64, bias=True)\n",
       "  (fc_logvar): Linear(in_features=256, out_features=64, bias=True)\n",
       "  (latent_to_hidden): Linear(in_features=64, out_features=256, bias=True)\n",
       "  (decoder_gru): GRU(192, 256, batch_first=True)\n",
       "  (out_pitch): Linear(in_features=256, out_features=84, bias=True)\n",
       "  (out_velocity): Linear(in_features=256, out_features=1, bias=True)\n",
       "  (out_time): Linear(in_features=256, out_features=1, bias=True)\n",
       "  (out_duration): Linear(in_features=256, out_features=1, bias=True)\n",
       ")"
      ]
     },
     "execution_count": 49,
     "metadata": {},
     "output_type": "execute_result"
    }
   ],
   "source": [
    "model = GRUVAE()\n",
    "model.load_state_dict(torch.load('best_model.pt'))\n",
    "model.cuda()"
   ]
  },
  {
   "cell_type": "code",
   "execution_count": 3,
   "id": "5c076234",
   "metadata": {},
   "outputs": [],
   "source": [
    "def vae_kl_loss(mu, logvar):\n",
    "    \"\"\"\n",
    "    Compute the KL divergence between the learned Gaussian distribution and a standard normal distribution.\n",
    "\n",
    "    Args:\n",
    "        mu (Tensor): Mean of the latent distribution. Shape [batch_size, latent_dim]\n",
    "        logvar (Tensor): Log variance of the latent distribution. Shape [batch_size, latent_dim]\n",
    "\n",
    "    Returns:\n",
    "        Tensor: Scalar loss (KL divergence)\n",
    "    \"\"\"\n",
    "    kl = -0.5 * torch.sum(1 + logvar - mu.pow(2) - logvar.exp(), dim=1)  # per sample\n",
    "    return kl.mean()  # average over batch"
   ]
  },
  {
   "cell_type": "code",
   "execution_count": 4,
   "id": "dd71ca8e",
   "metadata": {},
   "outputs": [],
   "source": [
    "def loss_fn(output, target, beta):\n",
    "    pitch_loss = nn.CrossEntropyLoss()(\n",
    "        output['pitch'].reshape(-1, output['pitch'].shape[-1]),\n",
    "        target[:, :, 0].reshape(-1).long()  # <-- cast to long\n",
    "    )\n",
    "    mse_loss = nn.MSELoss()\n",
    "    \n",
    "    velocity_loss = mse_loss(\n",
    "        output['velocity'].reshape(-1, output['velocity'].shape[-1]),\n",
    "        target[:, :, 1].reshape(-1, 1)\n",
    "    )\n",
    "    time_loss = mse_loss(\n",
    "        output['time'].reshape(-1, output['time'].shape[-1]),\n",
    "        target[:, :, 2].reshape(-1, 1)\n",
    "    )\n",
    "    duration_loss = mse_loss(\n",
    "        output['duration'].reshape(-1, output['duration'].shape[-1]),\n",
    "        target[:, :, 3].reshape(-1, 1)\n",
    "    )\n",
    "\n",
    "    kl_loss = vae_kl_loss(output[\"mu\"], output[\"logvar\"])\n",
    "\n",
    "    return pitch_loss + velocity_loss * 1e2 + time_loss * 1e6 + duration_loss * 1e2 + kl_loss * beta\n"
   ]
  },
  {
   "cell_type": "code",
   "execution_count": 5,
   "id": "9cf031e3",
   "metadata": {},
   "outputs": [],
   "source": [
    "folder_path = 'data/midi_dataset/midis'\n",
    "file_names = os.listdir(folder_path)\n",
    "file_names = [os.path.join(folder_path, f) for f in file_names]"
   ]
  },
  {
   "cell_type": "code",
   "execution_count": 6,
   "id": "f8bf139c",
   "metadata": {},
   "outputs": [],
   "source": [
    "model = GRUVAE().cuda()\n",
    "optimizer = torch.optim.Adam(model.parameters(), lr=1e-4)"
   ]
  },
  {
   "cell_type": "code",
   "execution_count": 7,
   "id": "77fbdf7c",
   "metadata": {},
   "outputs": [],
   "source": [
    "dataset = EventMidiDataset(file_names[:1000])\n",
    "val_ds = EventMidiDataset(file_names[1000:1100])\n"
   ]
  },
  {
   "cell_type": "code",
   "execution_count": 8,
   "id": "bbcb488f",
   "metadata": {},
   "outputs": [],
   "source": [
    "midi_dataloader = DataLoader(\n",
    "    dataset,\n",
    "    batch_size=64,\n",
    "    pin_memory=True,\n",
    "    num_workers=6,\n",
    "    shuffle=False,\n",
    ")\n",
    "val_dl = DataLoader(\n",
    "    val_ds,\n",
    "    batch_size=64,\n",
    "    pin_memory=True,\n",
    "    num_workers=6,\n",
    "    shuffle=False,\n",
    ")"
   ]
  },
  {
   "cell_type": "code",
   "execution_count": 9,
   "id": "a1cc1f80",
   "metadata": {},
   "outputs": [],
   "source": [
    "# max_vals = None\n",
    "# min_vals = None\n",
    "\n",
    "# for X_batch in midi_dataloader:\n",
    "#     batch_max = X_batch.view(-1, X_batch.shape[-1]).max(dim=0).values\n",
    "#     batch_min = X_batch.view(-1, X_batch.shape[-1]).min(dim=0).values\n",
    "\n",
    "#     if max_vals is None:\n",
    "#         max_vals = batch_max\n",
    "#         min_vals = batch_min\n",
    "#     else:\n",
    "#         max_vals = torch.max(max_vals, batch_max)\n",
    "#         min_vals = torch.min(min_vals, batch_min)\n",
    "\n",
    "# print(\"Max values across all batches (pitch, velocity, time, duration):\", max_vals)\n",
    "# print(\"Min values across all batches (pitch, velocity, time, duration):\", min_vals)\n"
   ]
  },
  {
   "cell_type": "code",
   "execution_count": 10,
   "id": "701ac27a",
   "metadata": {},
   "outputs": [],
   "source": [
    "def fit(dataloader, val_dataloader, model, optimizer, loss_fn, epochs=50, patience=5, best_model_path='best_model.pt'):\n",
    "    best_val_loss = float('inf')\n",
    "    epochs_no_improve = 0\n",
    "\n",
    "    for epoch in range(epochs):\n",
    "        # ---- Training ----\n",
    "        model.train()\n",
    "        total_train_loss = 0.0\n",
    "        for X_batch in tqdm(dataloader, desc=f\"Epoch {epoch+1}/{epochs} - Training\"):\n",
    "            X_batch = X_batch.cuda()\n",
    "\n",
    "            input_seq = X_batch[:, :-1]\n",
    "            target_seq = X_batch[:, 1:]\n",
    "\n",
    "            logits = model(input_seq)\n",
    "            loss = loss_fn(logits, target_seq)\n",
    "\n",
    "            optimizer.zero_grad()\n",
    "            loss.backward()\n",
    "            optimizer.step()\n",
    "\n",
    "            total_train_loss += loss.item()\n",
    "\n",
    "        avg_train_loss = total_train_loss / len(dataloader)\n",
    "\n",
    "        # ---- Validation ----\n",
    "        model.eval()\n",
    "        total_val_loss = 0.0\n",
    "        with torch.no_grad():\n",
    "            for X_batch in val_dataloader:\n",
    "                X_batch = X_batch.cuda()\n",
    "\n",
    "                input_seq = X_batch[:, :-1]\n",
    "                target_seq = X_batch[:, 1:]\n",
    "\n",
    "                logits = model(input_seq)\n",
    "                loss = loss_fn(logits, target_seq)\n",
    "                total_val_loss += loss.item()\n",
    "\n",
    "        avg_val_loss = total_val_loss / len(val_dataloader)\n",
    "\n",
    "        # ---- Print epoch results ----\n",
    "        print(f\"Epoch {epoch+1}: Train Loss = {avg_train_loss:.4f}, Val Loss = {avg_val_loss:.4f}\")\n",
    "\n",
    "        # ---- Early stopping and saving best model ----\n",
    "        if avg_val_loss < best_val_loss:\n",
    "            best_val_loss = avg_val_loss\n",
    "            epochs_no_improve = 0\n",
    "            torch.save(model.state_dict(), best_model_path)\n",
    "            # print(f\"Best model saved at epoch {epoch+1} with val loss {avg_val_loss:.4f}\")\n",
    "        else:\n",
    "            epochs_no_improve += 1\n",
    "            if epochs_no_improve >= patience:\n",
    "                print(f\"Early stopping triggered after {epoch+1} epochs.\")\n",
    "                break"
   ]
  },
  {
   "cell_type": "code",
   "execution_count": 11,
   "id": "967fc925",
   "metadata": {},
   "outputs": [
    {
     "name": "stderr",
     "output_type": "stream",
     "text": [
      "Epoch 1/10 - Training: 100%|██████████| 5806/5806 [01:09<00:00, 83.46it/s] \n"
     ]
    },
    {
     "name": "stdout",
     "output_type": "stream",
     "text": [
      "Epoch 1: Train Loss = 257.0842, Val Loss = 13.8345\n"
     ]
    },
    {
     "name": "stderr",
     "output_type": "stream",
     "text": [
      "Epoch 2/10 - Training: 100%|██████████| 5806/5806 [01:04<00:00, 89.73it/s] \n"
     ]
    },
    {
     "name": "stdout",
     "output_type": "stream",
     "text": [
      "Epoch 2: Train Loss = 21.0465, Val Loss = 9.4547\n"
     ]
    },
    {
     "name": "stderr",
     "output_type": "stream",
     "text": [
      "Epoch 3/10 - Training: 100%|██████████| 5806/5806 [01:05<00:00, 88.34it/s] \n"
     ]
    },
    {
     "name": "stdout",
     "output_type": "stream",
     "text": [
      "Epoch 3: Train Loss = 15.1231, Val Loss = 7.4024\n"
     ]
    },
    {
     "name": "stderr",
     "output_type": "stream",
     "text": [
      "Epoch 4/10 - Training: 100%|██████████| 5806/5806 [01:05<00:00, 88.26it/s] \n"
     ]
    },
    {
     "name": "stdout",
     "output_type": "stream",
     "text": [
      "Epoch 4: Train Loss = 12.0491, Val Loss = 7.1860\n"
     ]
    },
    {
     "name": "stderr",
     "output_type": "stream",
     "text": [
      "Epoch 5/10 - Training: 100%|██████████| 5806/5806 [01:04<00:00, 89.41it/s] \n"
     ]
    },
    {
     "name": "stdout",
     "output_type": "stream",
     "text": [
      "Epoch 5: Train Loss = 10.6471, Val Loss = 7.2629\n"
     ]
    },
    {
     "name": "stderr",
     "output_type": "stream",
     "text": [
      "Epoch 6/10 - Training: 100%|██████████| 5806/5806 [01:05<00:00, 88.95it/s] \n"
     ]
    },
    {
     "name": "stdout",
     "output_type": "stream",
     "text": [
      "Epoch 6: Train Loss = 9.4853, Val Loss = 9.3578\n"
     ]
    },
    {
     "name": "stderr",
     "output_type": "stream",
     "text": [
      "Epoch 7/10 - Training: 100%|██████████| 5806/5806 [01:05<00:00, 89.28it/s] \n"
     ]
    },
    {
     "name": "stdout",
     "output_type": "stream",
     "text": [
      "Epoch 7: Train Loss = 8.2668, Val Loss = 8.4017\n"
     ]
    },
    {
     "name": "stderr",
     "output_type": "stream",
     "text": [
      "Epoch 8/10 - Training: 100%|██████████| 5806/5806 [01:05<00:00, 89.32it/s] \n"
     ]
    },
    {
     "name": "stdout",
     "output_type": "stream",
     "text": [
      "Epoch 8: Train Loss = 7.6074, Val Loss = 5.3696\n"
     ]
    },
    {
     "name": "stderr",
     "output_type": "stream",
     "text": [
      "Epoch 9/10 - Training: 100%|██████████| 5806/5806 [01:04<00:00, 89.50it/s] \n"
     ]
    },
    {
     "name": "stdout",
     "output_type": "stream",
     "text": [
      "Epoch 9: Train Loss = 6.8097, Val Loss = 5.1000\n"
     ]
    },
    {
     "name": "stderr",
     "output_type": "stream",
     "text": [
      "Epoch 10/10 - Training: 100%|██████████| 5806/5806 [01:05<00:00, 89.11it/s] \n"
     ]
    },
    {
     "name": "stdout",
     "output_type": "stream",
     "text": [
      "Epoch 10: Train Loss = 6.9146, Val Loss = 5.2340\n"
     ]
    }
   ],
   "source": [
    "loss = lambda a,b : loss_fn(a,b,0)\n",
    "fit(midi_dataloader, val_dl, model, optimizer, loss, 10)"
   ]
  },
  {
   "cell_type": "code",
   "execution_count": 12,
   "id": "da809f12",
   "metadata": {},
   "outputs": [
    {
     "name": "stderr",
     "output_type": "stream",
     "text": [
      "Epoch 1/10 - Training: 100%|██████████| 5806/5806 [01:05<00:00, 88.83it/s] \n"
     ]
    },
    {
     "name": "stdout",
     "output_type": "stream",
     "text": [
      "Epoch 1: Train Loss = 24.0251, Val Loss = 16.2803\n"
     ]
    },
    {
     "name": "stderr",
     "output_type": "stream",
     "text": [
      "Epoch 2/10 - Training: 100%|██████████| 5806/5806 [01:04<00:00, 89.60it/s] \n"
     ]
    },
    {
     "name": "stdout",
     "output_type": "stream",
     "text": [
      "Epoch 2: Train Loss = 13.3019, Val Loss = 10.2106\n"
     ]
    },
    {
     "name": "stderr",
     "output_type": "stream",
     "text": [
      "Epoch 3/10 - Training: 100%|██████████| 5806/5806 [01:05<00:00, 89.28it/s] \n"
     ]
    },
    {
     "name": "stdout",
     "output_type": "stream",
     "text": [
      "Epoch 3: Train Loss = 10.5338, Val Loss = 10.3174\n"
     ]
    },
    {
     "name": "stderr",
     "output_type": "stream",
     "text": [
      "Epoch 4/10 - Training: 100%|██████████| 5806/5806 [01:04<00:00, 89.42it/s] \n"
     ]
    },
    {
     "name": "stdout",
     "output_type": "stream",
     "text": [
      "Epoch 4: Train Loss = 9.3217, Val Loss = 8.1251\n"
     ]
    },
    {
     "name": "stderr",
     "output_type": "stream",
     "text": [
      "Epoch 5/10 - Training: 100%|██████████| 5806/5806 [01:05<00:00, 88.80it/s] \n"
     ]
    },
    {
     "name": "stdout",
     "output_type": "stream",
     "text": [
      "Epoch 5: Train Loss = 8.5649, Val Loss = 8.4513\n"
     ]
    },
    {
     "name": "stderr",
     "output_type": "stream",
     "text": [
      "Epoch 6/10 - Training: 100%|██████████| 5806/5806 [01:04<00:00, 89.39it/s] \n"
     ]
    },
    {
     "name": "stdout",
     "output_type": "stream",
     "text": [
      "Epoch 6: Train Loss = 8.0030, Val Loss = 7.9697\n"
     ]
    },
    {
     "name": "stderr",
     "output_type": "stream",
     "text": [
      "Epoch 7/10 - Training: 100%|██████████| 5806/5806 [01:05<00:00, 88.81it/s] \n"
     ]
    },
    {
     "name": "stdout",
     "output_type": "stream",
     "text": [
      "Epoch 7: Train Loss = 7.6507, Val Loss = 7.4365\n"
     ]
    },
    {
     "name": "stderr",
     "output_type": "stream",
     "text": [
      "Epoch 8/10 - Training: 100%|██████████| 5806/5806 [01:04<00:00, 89.41it/s] \n"
     ]
    },
    {
     "name": "stdout",
     "output_type": "stream",
     "text": [
      "Epoch 8: Train Loss = 7.3682, Val Loss = 7.9484\n"
     ]
    },
    {
     "name": "stderr",
     "output_type": "stream",
     "text": [
      "Epoch 9/10 - Training: 100%|██████████| 5806/5806 [01:05<00:00, 89.10it/s] \n"
     ]
    },
    {
     "name": "stdout",
     "output_type": "stream",
     "text": [
      "Epoch 9: Train Loss = 7.2052, Val Loss = 6.7462\n"
     ]
    },
    {
     "name": "stderr",
     "output_type": "stream",
     "text": [
      "Epoch 10/10 - Training: 100%|██████████| 5806/5806 [01:04<00:00, 89.57it/s] \n"
     ]
    },
    {
     "name": "stdout",
     "output_type": "stream",
     "text": [
      "Epoch 10: Train Loss = 7.0516, Val Loss = 7.2549\n"
     ]
    }
   ],
   "source": [
    "loss = lambda a,b : loss_fn(a,b,0.5)\n",
    "fit(midi_dataloader, val_dl, model, optimizer, loss, 10)"
   ]
  },
  {
   "cell_type": "code",
   "execution_count": 13,
   "id": "dbd7b829",
   "metadata": {},
   "outputs": [
    {
     "name": "stderr",
     "output_type": "stream",
     "text": [
      "Epoch 1/10 - Training: 100%|██████████| 5806/5806 [01:04<00:00, 89.44it/s] \n"
     ]
    },
    {
     "name": "stdout",
     "output_type": "stream",
     "text": [
      "Epoch 1: Train Loss = 6.9405, Val Loss = 6.5308\n"
     ]
    },
    {
     "name": "stderr",
     "output_type": "stream",
     "text": [
      "Epoch 2/10 - Training: 100%|██████████| 5806/5806 [01:04<00:00, 89.63it/s] \n"
     ]
    },
    {
     "name": "stdout",
     "output_type": "stream",
     "text": [
      "Epoch 2: Train Loss = 6.7943, Val Loss = 6.7199\n"
     ]
    },
    {
     "name": "stderr",
     "output_type": "stream",
     "text": [
      "Epoch 3/10 - Training: 100%|██████████| 5806/5806 [01:04<00:00, 89.98it/s] \n"
     ]
    },
    {
     "name": "stdout",
     "output_type": "stream",
     "text": [
      "Epoch 3: Train Loss = 6.7246, Val Loss = 6.3844\n"
     ]
    },
    {
     "name": "stderr",
     "output_type": "stream",
     "text": [
      "Epoch 4/10 - Training: 100%|██████████| 5806/5806 [01:09<00:00, 83.36it/s] \n"
     ]
    },
    {
     "name": "stdout",
     "output_type": "stream",
     "text": [
      "Epoch 4: Train Loss = 6.6621, Val Loss = 6.7662\n"
     ]
    },
    {
     "name": "stderr",
     "output_type": "stream",
     "text": [
      "Epoch 5/10 - Training: 100%|██████████| 5806/5806 [01:08<00:00, 85.19it/s] \n"
     ]
    },
    {
     "name": "stdout",
     "output_type": "stream",
     "text": [
      "Epoch 5: Train Loss = 6.5943, Val Loss = 6.3323\n"
     ]
    },
    {
     "name": "stderr",
     "output_type": "stream",
     "text": [
      "Epoch 6/10 - Training: 100%|██████████| 5806/5806 [01:07<00:00, 86.11it/s] \n"
     ]
    },
    {
     "name": "stdout",
     "output_type": "stream",
     "text": [
      "Epoch 6: Train Loss = 6.5400, Val Loss = 6.2909\n"
     ]
    },
    {
     "name": "stderr",
     "output_type": "stream",
     "text": [
      "Epoch 7/10 - Training: 100%|██████████| 5806/5806 [01:07<00:00, 85.91it/s] \n"
     ]
    },
    {
     "name": "stdout",
     "output_type": "stream",
     "text": [
      "Epoch 7: Train Loss = 6.4837, Val Loss = 6.4922\n"
     ]
    },
    {
     "name": "stderr",
     "output_type": "stream",
     "text": [
      "Epoch 8/10 - Training: 100%|██████████| 5806/5806 [01:07<00:00, 85.63it/s] \n"
     ]
    },
    {
     "name": "stdout",
     "output_type": "stream",
     "text": [
      "Epoch 8: Train Loss = 6.4609, Val Loss = 6.2209\n"
     ]
    },
    {
     "name": "stderr",
     "output_type": "stream",
     "text": [
      "Epoch 9/10 - Training: 100%|██████████| 5806/5806 [01:07<00:00, 85.64it/s] \n"
     ]
    },
    {
     "name": "stdout",
     "output_type": "stream",
     "text": [
      "Epoch 9: Train Loss = 6.4323, Val Loss = 6.0681\n"
     ]
    },
    {
     "name": "stderr",
     "output_type": "stream",
     "text": [
      "Epoch 10/10 - Training: 100%|██████████| 5806/5806 [01:06<00:00, 86.66it/s] \n"
     ]
    },
    {
     "name": "stdout",
     "output_type": "stream",
     "text": [
      "Epoch 10: Train Loss = 6.4028, Val Loss = 6.1677\n"
     ]
    }
   ],
   "source": [
    "loss = lambda a,b : loss_fn(a,b,1)\n",
    "fit(midi_dataloader, val_dl, model, optimizer, loss, 10)"
   ]
  },
  {
   "cell_type": "code",
   "execution_count": 47,
   "id": "440c07c2",
   "metadata": {},
   "outputs": [
    {
     "name": "stderr",
     "output_type": "stream",
     "text": [
      "Epoch 1/100 - Training: 100%|██████████| 5806/5806 [01:26<00:00, 67.23it/s] \n"
     ]
    },
    {
     "name": "stdout",
     "output_type": "stream",
     "text": [
      "Epoch 1: Train Loss = 6.4335, Val Loss = 6.1507\n"
     ]
    },
    {
     "name": "stderr",
     "output_type": "stream",
     "text": [
      "Epoch 2/100 - Training: 100%|██████████| 5806/5806 [01:19<00:00, 72.60it/s] \n"
     ]
    },
    {
     "name": "stdout",
     "output_type": "stream",
     "text": [
      "Epoch 2: Train Loss = 6.3309, Val Loss = 6.0735\n"
     ]
    },
    {
     "name": "stderr",
     "output_type": "stream",
     "text": [
      "Epoch 3/100 - Training: 100%|██████████| 5806/5806 [01:18<00:00, 73.80it/s] \n"
     ]
    },
    {
     "name": "stdout",
     "output_type": "stream",
     "text": [
      "Epoch 3: Train Loss = 6.3445, Val Loss = 6.0691\n"
     ]
    },
    {
     "name": "stderr",
     "output_type": "stream",
     "text": [
      "Epoch 4/100 - Training: 100%|██████████| 5806/5806 [01:17<00:00, 74.91it/s] \n"
     ]
    },
    {
     "name": "stdout",
     "output_type": "stream",
     "text": [
      "Epoch 4: Train Loss = 6.2578, Val Loss = 6.0450\n"
     ]
    },
    {
     "name": "stderr",
     "output_type": "stream",
     "text": [
      "Epoch 5/100 - Training: 100%|██████████| 5806/5806 [01:18<00:00, 73.66it/s] \n"
     ]
    },
    {
     "name": "stdout",
     "output_type": "stream",
     "text": [
      "Epoch 5: Train Loss = 6.2120, Val Loss = 6.0149\n"
     ]
    },
    {
     "name": "stderr",
     "output_type": "stream",
     "text": [
      "Epoch 6/100 - Training: 100%|██████████| 5806/5806 [01:18<00:00, 74.26it/s] \n"
     ]
    },
    {
     "name": "stdout",
     "output_type": "stream",
     "text": [
      "Epoch 6: Train Loss = 6.2150, Val Loss = 5.9777\n"
     ]
    },
    {
     "name": "stderr",
     "output_type": "stream",
     "text": [
      "Epoch 7/100 - Training: 100%|██████████| 5806/5806 [01:14<00:00, 77.43it/s] \n"
     ]
    },
    {
     "name": "stdout",
     "output_type": "stream",
     "text": [
      "Epoch 7: Train Loss = 6.1519, Val Loss = 5.9972\n"
     ]
    },
    {
     "name": "stderr",
     "output_type": "stream",
     "text": [
      "Epoch 8/100 - Training: 100%|██████████| 5806/5806 [01:07<00:00, 85.58it/s] \n"
     ]
    },
    {
     "name": "stdout",
     "output_type": "stream",
     "text": [
      "Epoch 8: Train Loss = 6.1871, Val Loss = 5.9841\n"
     ]
    },
    {
     "name": "stderr",
     "output_type": "stream",
     "text": [
      "Epoch 9/100 - Training: 100%|██████████| 5806/5806 [01:07<00:00, 85.73it/s] \n"
     ]
    },
    {
     "name": "stdout",
     "output_type": "stream",
     "text": [
      "Epoch 9: Train Loss = 6.1978, Val Loss = 5.9759\n"
     ]
    },
    {
     "name": "stderr",
     "output_type": "stream",
     "text": [
      "Epoch 10/100 - Training: 100%|██████████| 5806/5806 [01:06<00:00, 87.91it/s] \n"
     ]
    },
    {
     "name": "stdout",
     "output_type": "stream",
     "text": [
      "Epoch 10: Train Loss = 6.2227, Val Loss = 5.9455\n"
     ]
    },
    {
     "name": "stderr",
     "output_type": "stream",
     "text": [
      "Epoch 11/100 - Training: 100%|██████████| 5806/5806 [01:05<00:00, 88.81it/s] \n"
     ]
    },
    {
     "name": "stdout",
     "output_type": "stream",
     "text": [
      "Epoch 11: Train Loss = 6.1736, Val Loss = 5.9252\n"
     ]
    },
    {
     "name": "stderr",
     "output_type": "stream",
     "text": [
      "Epoch 12/100 - Training: 100%|██████████| 5806/5806 [01:07<00:00, 86.16it/s] \n"
     ]
    },
    {
     "name": "stdout",
     "output_type": "stream",
     "text": [
      "Epoch 12: Train Loss = 6.1786, Val Loss = 5.9561\n"
     ]
    },
    {
     "name": "stderr",
     "output_type": "stream",
     "text": [
      "Epoch 13/100 - Training: 100%|██████████| 5806/5806 [01:05<00:00, 87.99it/s] \n"
     ]
    },
    {
     "name": "stdout",
     "output_type": "stream",
     "text": [
      "Epoch 13: Train Loss = 6.1870, Val Loss = 5.9651\n"
     ]
    },
    {
     "name": "stderr",
     "output_type": "stream",
     "text": [
      "Epoch 14/100 - Training: 100%|██████████| 5806/5806 [01:10<00:00, 82.67it/s] \n"
     ]
    },
    {
     "name": "stdout",
     "output_type": "stream",
     "text": [
      "Epoch 14: Train Loss = 6.1342, Val Loss = 5.9310\n"
     ]
    },
    {
     "name": "stderr",
     "output_type": "stream",
     "text": [
      "Epoch 15/100 - Training: 100%|██████████| 5806/5806 [01:09<00:00, 83.81it/s] \n"
     ]
    },
    {
     "name": "stdout",
     "output_type": "stream",
     "text": [
      "Epoch 15: Train Loss = 6.1345, Val Loss = 5.9034\n"
     ]
    },
    {
     "name": "stderr",
     "output_type": "stream",
     "text": [
      "Epoch 16/100 - Training: 100%|██████████| 5806/5806 [01:10<00:00, 82.88it/s] \n"
     ]
    },
    {
     "name": "stdout",
     "output_type": "stream",
     "text": [
      "Epoch 16: Train Loss = 6.1122, Val Loss = 5.9083\n"
     ]
    },
    {
     "name": "stderr",
     "output_type": "stream",
     "text": [
      "Epoch 17/100 - Training: 100%|██████████| 5806/5806 [01:10<00:00, 81.88it/s] \n"
     ]
    },
    {
     "name": "stdout",
     "output_type": "stream",
     "text": [
      "Epoch 17: Train Loss = 6.1069, Val Loss = 5.9266\n"
     ]
    },
    {
     "name": "stderr",
     "output_type": "stream",
     "text": [
      "Epoch 18/100 - Training: 100%|██████████| 5806/5806 [01:11<00:00, 80.95it/s] \n"
     ]
    },
    {
     "name": "stdout",
     "output_type": "stream",
     "text": [
      "Epoch 18: Train Loss = 6.0426, Val Loss = 5.9940\n"
     ]
    },
    {
     "name": "stderr",
     "output_type": "stream",
     "text": [
      "Epoch 19/100 - Training: 100%|██████████| 5806/5806 [01:07<00:00, 85.43it/s] \n"
     ]
    },
    {
     "name": "stdout",
     "output_type": "stream",
     "text": [
      "Epoch 19: Train Loss = 6.0555, Val Loss = 5.9097\n"
     ]
    },
    {
     "name": "stderr",
     "output_type": "stream",
     "text": [
      "Epoch 20/100 - Training: 100%|██████████| 5806/5806 [01:07<00:00, 85.64it/s] \n"
     ]
    },
    {
     "name": "stdout",
     "output_type": "stream",
     "text": [
      "Epoch 20: Train Loss = 6.0795, Val Loss = 5.9018\n"
     ]
    },
    {
     "name": "stderr",
     "output_type": "stream",
     "text": [
      "Epoch 21/100 - Training: 100%|██████████| 5806/5806 [01:07<00:00, 86.19it/s] \n"
     ]
    },
    {
     "name": "stdout",
     "output_type": "stream",
     "text": [
      "Epoch 21: Train Loss = 6.0503, Val Loss = 5.9095\n"
     ]
    },
    {
     "name": "stderr",
     "output_type": "stream",
     "text": [
      "Epoch 22/100 - Training: 100%|██████████| 5806/5806 [01:07<00:00, 85.82it/s] \n"
     ]
    },
    {
     "name": "stdout",
     "output_type": "stream",
     "text": [
      "Epoch 22: Train Loss = 6.0544, Val Loss = 5.8939\n"
     ]
    },
    {
     "name": "stderr",
     "output_type": "stream",
     "text": [
      "Epoch 23/100 - Training: 100%|██████████| 5806/5806 [01:06<00:00, 86.83it/s] \n"
     ]
    },
    {
     "name": "stdout",
     "output_type": "stream",
     "text": [
      "Epoch 23: Train Loss = 6.0540, Val Loss = 5.9118\n"
     ]
    },
    {
     "name": "stderr",
     "output_type": "stream",
     "text": [
      "Epoch 24/100 - Training: 100%|██████████| 5806/5806 [01:07<00:00, 86.58it/s] \n"
     ]
    },
    {
     "name": "stdout",
     "output_type": "stream",
     "text": [
      "Epoch 24: Train Loss = 6.0610, Val Loss = 5.9096\n"
     ]
    },
    {
     "name": "stderr",
     "output_type": "stream",
     "text": [
      "Epoch 25/100 - Training: 100%|██████████| 5806/5806 [01:07<00:00, 86.06it/s] \n"
     ]
    },
    {
     "name": "stdout",
     "output_type": "stream",
     "text": [
      "Epoch 25: Train Loss = 6.0177, Val Loss = 5.9374\n"
     ]
    },
    {
     "name": "stderr",
     "output_type": "stream",
     "text": [
      "Epoch 26/100 - Training: 100%|██████████| 5806/5806 [01:07<00:00, 85.86it/s] \n"
     ]
    },
    {
     "name": "stdout",
     "output_type": "stream",
     "text": [
      "Epoch 26: Train Loss = 5.9805, Val Loss = 5.9226\n"
     ]
    },
    {
     "name": "stderr",
     "output_type": "stream",
     "text": [
      "Epoch 27/100 - Training: 100%|██████████| 5806/5806 [01:07<00:00, 85.79it/s] \n"
     ]
    },
    {
     "name": "stdout",
     "output_type": "stream",
     "text": [
      "Epoch 27: Train Loss = 5.9903, Val Loss = 5.9677\n"
     ]
    },
    {
     "name": "stderr",
     "output_type": "stream",
     "text": [
      "Epoch 28/100 - Training: 100%|██████████| 5806/5806 [01:07<00:00, 86.54it/s] \n"
     ]
    },
    {
     "name": "stdout",
     "output_type": "stream",
     "text": [
      "Epoch 28: Train Loss = 6.0016, Val Loss = 5.9203\n"
     ]
    },
    {
     "name": "stderr",
     "output_type": "stream",
     "text": [
      "Epoch 29/100 - Training: 100%|██████████| 5806/5806 [01:08<00:00, 85.33it/s] \n"
     ]
    },
    {
     "name": "stdout",
     "output_type": "stream",
     "text": [
      "Epoch 29: Train Loss = 5.9501, Val Loss = 5.9642\n"
     ]
    },
    {
     "name": "stderr",
     "output_type": "stream",
     "text": [
      "Epoch 30/100 - Training: 100%|██████████| 5806/5806 [01:07<00:00, 85.60it/s] \n"
     ]
    },
    {
     "name": "stdout",
     "output_type": "stream",
     "text": [
      "Epoch 30: Train Loss = 6.0337, Val Loss = 5.9580\n"
     ]
    },
    {
     "name": "stderr",
     "output_type": "stream",
     "text": [
      "Epoch 31/100 - Training: 100%|██████████| 5806/5806 [01:07<00:00, 85.74it/s] \n"
     ]
    },
    {
     "name": "stdout",
     "output_type": "stream",
     "text": [
      "Epoch 31: Train Loss = 5.9646, Val Loss = 5.9007\n"
     ]
    },
    {
     "name": "stderr",
     "output_type": "stream",
     "text": [
      "Epoch 32/100 - Training: 100%|██████████| 5806/5806 [01:07<00:00, 86.19it/s] \n"
     ]
    },
    {
     "name": "stdout",
     "output_type": "stream",
     "text": [
      "Epoch 32: Train Loss = 6.0528, Val Loss = 5.9149\n"
     ]
    },
    {
     "name": "stderr",
     "output_type": "stream",
     "text": [
      "Epoch 33/100 - Training: 100%|██████████| 5806/5806 [01:08<00:00, 85.34it/s] \n"
     ]
    },
    {
     "name": "stdout",
     "output_type": "stream",
     "text": [
      "Epoch 33: Train Loss = 5.9628, Val Loss = 5.9214\n"
     ]
    },
    {
     "name": "stderr",
     "output_type": "stream",
     "text": [
      "Epoch 34/100 - Training: 100%|██████████| 5806/5806 [01:08<00:00, 84.68it/s] \n"
     ]
    },
    {
     "name": "stdout",
     "output_type": "stream",
     "text": [
      "Epoch 34: Train Loss = 5.9727, Val Loss = 5.9217\n"
     ]
    },
    {
     "name": "stderr",
     "output_type": "stream",
     "text": [
      "Epoch 35/100 - Training: 100%|██████████| 5806/5806 [01:07<00:00, 85.86it/s] \n"
     ]
    },
    {
     "name": "stdout",
     "output_type": "stream",
     "text": [
      "Epoch 35: Train Loss = 6.0172, Val Loss = 5.9652\n"
     ]
    },
    {
     "name": "stderr",
     "output_type": "stream",
     "text": [
      "Epoch 36/100 - Training: 100%|██████████| 5806/5806 [01:08<00:00, 85.00it/s] \n"
     ]
    },
    {
     "name": "stdout",
     "output_type": "stream",
     "text": [
      "Epoch 36: Train Loss = 5.9914, Val Loss = 5.9063\n"
     ]
    },
    {
     "name": "stderr",
     "output_type": "stream",
     "text": [
      "Epoch 37/100 - Training: 100%|██████████| 5806/5806 [01:08<00:00, 85.18it/s] \n"
     ]
    },
    {
     "name": "stdout",
     "output_type": "stream",
     "text": [
      "Epoch 37: Train Loss = 5.9956, Val Loss = 5.9189\n",
      "Early stopping triggered after 37 epochs.\n"
     ]
    }
   ],
   "source": [
    "loss = lambda a,b : loss_fn(a,b,1)\n",
    "optimizer = torch.optim.Adam(model.parameters(), lr=1e-4)\n",
    "fit(midi_dataloader, val_dl, model, optimizer, loss, 100, patience=15)"
   ]
  },
  {
   "cell_type": "code",
   "execution_count": 14,
   "id": "154a1a51",
   "metadata": {},
   "outputs": [],
   "source": [
    "test_dataset = EventMidiDataset(file_names[1100:1200])\n"
   ]
  },
  {
   "cell_type": "code",
   "execution_count": 15,
   "id": "4ca05c0e",
   "metadata": {},
   "outputs": [],
   "source": [
    "test_dl = DataLoader(\n",
    "    dataset,\n",
    "    batch_size=64,\n",
    "    pin_memory=True,\n",
    "    num_workers=6,\n",
    "    shuffle=True,\n",
    ")"
   ]
  },
  {
   "cell_type": "code",
   "execution_count": 16,
   "id": "28779e1d",
   "metadata": {},
   "outputs": [
    {
     "name": "stdout",
     "output_type": "stream",
     "text": [
      "Average Test Loss: 6.4562\n"
     ]
    }
   ],
   "source": [
    "total_loss = 0\n",
    "num_batches = 0\n",
    "\n",
    "loss = lambda a,b : loss_fn(a,b,1)\n",
    "\n",
    "model.eval()\n",
    "with torch.no_grad():\n",
    "    for X_batch in test_dl:\n",
    "        X_batch = X_batch.cuda()\n",
    "\n",
    "        input_seq = X_batch[:, :-1]\n",
    "        target_seq = X_batch[:, 1:]\n",
    "\n",
    "        output = model(input_seq)\n",
    "        total_loss += loss(output, target_seq).item()\n",
    "        num_batches += 1\n",
    "\n",
    "avg_loss = total_loss / num_batches\n",
    "print(f\"Average Test Loss: {avg_loss:.4f}\")"
   ]
  },
  {
   "cell_type": "code",
   "execution_count": 17,
   "id": "5957fb0b",
   "metadata": {},
   "outputs": [],
   "source": [
    "sample = test_dataset[0]  # shape: (seq_len, 4)\n",
    "sample = sample.unsqueeze(0).cuda()  # Add batch dimension → shape: (1, seq_len, 4)"
   ]
  },
  {
   "cell_type": "code",
   "execution_count": null,
   "id": "297bfd38",
   "metadata": {},
   "outputs": [
    {
     "data": {
      "image/png": "[encoded data removed]",
      "text/plain": [
       "<Figure size 1000x600 with 4 Axes>"
      ]
     },
     "metadata": {},
     "output_type": "display_data"
    }
   ],
   "source": [
    "\n",
    "model.eval()\n",
    "with torch.no_grad():\n",
    "    reconstructed = model(sample)\n",
    "reconstructed_pitch = torch.argmax(reconstructed['pitch'], dim=-1)\n",
    "reconstructed_velocity = reconstructed['velocity'].squeeze(-1)\n",
    "reconstructed_time = reconstructed['time'].squeeze(-1)\n",
    "reconstructed_duration = reconstructed['duration'].squeeze(-1)\n",
    "\n",
    "\n",
    "reconstructed_seq = torch.stack([\n",
    "    reconstructed_pitch,\n",
    "    reconstructed_velocity,\n",
    "    reconstructed_time,\n",
    "    reconstructed_duration\n",
    "], dim=-1).squeeze(0)\n",
    "\n",
    "# for i in range(9):\n",
    "#     orig = sample[0, i].cpu().numpy()\n",
    "#     recon = reconstructed_seq[i].cpu().numpy()\n",
    "    # print(f\"{i:02d}: Orig: {orig}  |  Recon: {recon}\")\n",
    "\n",
    "\n",
    "fig, axs = plt.subplots(4, 1, figsize=(10, 6), sharex=True)\n",
    "labels = [\"Pitch\", \"Velocity\", \"Time\", \"Duration\"]\n",
    "\n",
    "for i in range(4):\n",
    "    axs[i].plot(sample[0, :, i].cpu(), label=\"Original\")\n",
    "    axs[i].plot(reconstructed_seq[:, i].cpu(), label=\"Reconstructed\", linestyle='--')\n",
    "    axs[i].set_ylabel(labels[i])\n",
    "    axs[i].legend()\n",
    "\n",
    "plt.xlabel(\"Time Step\")\n",
    "plt.suptitle(\"Original vs Reconstructed MIDI Features\")\n",
    "plt.tight_layout()\n",
    "plt.show()\n"
   ]
  },
  {
   "cell_type": "code",
   "execution_count": 19,
   "id": "639e9634",
   "metadata": {},
   "outputs": [],
   "source": [
    "def iou_intervals(pred_start, pred_duration, target_start, target_duration):\n",
    "    pred_end = pred_start + pred_duration\n",
    "    target_end = target_start + target_duration\n",
    "    \n",
    "    inter_start = np.maximum(pred_start, target_start)\n",
    "    inter_end = np.minimum(pred_end, target_end)\n",
    "    intersection = np.maximum(0, inter_end - inter_start)\n",
    "\n",
    "    union = np.maximum(pred_end, target_end) - np.minimum(pred_start, target_start)\n",
    "\n",
    "    with np.errstate(divide='ignore', invalid='ignore'):\n",
    "        iou = np.where(union > 0, intersection / union, 0.0)\n",
    "\n",
    "    return iou\n",
    "\n",
    "\n",
    "def unoffset_notes_start(notes: np.ndarray | torch.Tensor) -> np.ndarray:\n",
    "    \"\"\"Unoffsets start time\"\"\"\n",
    "    if isinstance(notes, torch.Tensor):\n",
    "        notes = notes.detach().cpu().numpy()\n",
    "    if notes.shape[1] < 4:\n",
    "        raise ValueError(\"Notes must have at least 4 columns (pitch, start, duration, velocity)\")\n",
    "    \n",
    "    unoffset_start = np.cumsum(notes[:, 2])\n",
    "    unoffset_notes = np.copy(notes)\n",
    "    unoffset_notes[:, 2] = unoffset_start\n",
    "    return unoffset_notes\n",
    "\n",
    "def pitch_match_accuracy_iou_ordered(pred_notes: np.ndarray | torch.Tensor, target_notes: np.ndarray|torch.Tensor, iou_threshold=0.1):\n",
    "    \"\"\"\n",
    "        Computes the pitch match accuracy and IoU for ordered notes. \n",
    "        Args:\n",
    "            pred_notes (np.ndarray or torch.Tensor): Predicted notes of shape (N, 4) where each row is [pitch, velocity, start, duration].\n",
    "            target_notes (np.ndarray or torch.Tensor): Target notes of shape (M, 4) with the same format.\n",
    "            iou_threshold (float): IoU threshold for matching.\n",
    "    \"\"\"\n",
    "    if isinstance(pred_notes, torch.Tensor):\n",
    "        pred_notes = pred_notes.detach().cpu().numpy()\n",
    "    if isinstance(target_notes, torch.Tensor):\n",
    "        target_notes = target_notes.detach().cpu().numpy()\n",
    "    N_pred = pred_notes.shape[0]\n",
    "    N_target = target_notes.shape[0]\n",
    "    pred_notes = unoffset_notes_start(pred_notes)\n",
    "    target_notes = unoffset_notes_start(target_notes)\n",
    "    # Compare up to the min length (to avoid indexing errors)\n",
    "    N = min(N_pred, N_target)\n",
    "    \n",
    "    pred_pitch = pred_notes[:N, 0]\n",
    "    pred_start = pred_notes[:N, 2]\n",
    "    pred_duration = pred_notes[:N, 3]\n",
    "    \n",
    "    target_pitch = target_notes[:N, 0]\n",
    "    target_start = target_notes[:N, 2]\n",
    "    target_duration = target_notes[:N, 3]\n",
    "\n",
    "    pitch_matches = (pred_pitch == target_pitch)\n",
    "    ious = iou_intervals(pred_start, pred_duration, target_start, target_duration)\n",
    "\n",
    "    # Match if pitch matches and IoU above threshold\n",
    "    # TODO: change matches to mAP (logits are required so another function maybee )\n",
    "    matches = pitch_matches & (ious >= iou_threshold)\n",
    "    \n",
    "    accuracy = pitch_matches.sum() / N if N > 0 else 0.0\n",
    "    return accuracy, ious, matches\n"
   ]
  },
  {
   "cell_type": "code",
   "execution_count": 20,
   "id": "8282b74d",
   "metadata": {},
   "outputs": [],
   "source": [
    "\n",
    "\n",
    "def plot_piano_roll_from_note_events(note_array: torch.Tensor|np.ndarray, figsize=(10, 4), title=None, fig=None, ax=None, show=True, show_colorbar=True, cmap='viridis'):\n",
    "    \"\"\"\n",
    "    Expects a note array of shape (N, 4) where each row is [pitch, velocity, delta_time, duration].\n",
    "    Args:\n",
    "        note_array (torch.Tensor or np.ndarray): Array of note events.\n",
    "        figsize (tuple): Size of the figure.\n",
    "        title (str): Title of the plot.\n",
    "        fig (plt.Figure): Figure to plot on, if None a new figure is created.\n",
    "        ax (plt.Axes): Axes to plot on, if None a new axes is created.\n",
    "        show (bool): Whether to show the plot.\n",
    "        show_colorbar (bool): Whether to show the colorbar for velocities.\n",
    "        cmap (str): Colormap to use for velocities.\n",
    "    Returns:\n",
    "        fig (plt.Figure): The figure object.\n",
    "        ax (plt.Axes): The axes object.\n",
    "    \"\"\"\n",
    "    if not isinstance(note_array, np.ndarray):\n",
    "        note_array = note_array.detach().cpu().numpy()\n",
    "    \n",
    "    if note_array.ndim == 3:\n",
    "        assert note_array.shape[0] == 1, \"Expected note_array to be of shape (N, 4) or (1, N, 4).\"\n",
    "        note_array = note_array[0]\n",
    "    \n",
    "\n",
    "    scaled_pitches = np.clip(note_array[:, 0], 0, 127).astype(np.int8)\n",
    "    velocities = np.clip(note_array[:, 1] * 127, 0, 127).astype(np.int8)\n",
    "    note_delta = note_array[:, 2] * 255\n",
    "    note_start = np.cumsum(note_delta)\n",
    "    note_duration = note_array[:, 3] * 7\n",
    "    note_end = note_start + note_duration\n",
    "\n",
    "    if fig is None or ax is None:\n",
    "        fig, ax = plt.subplots(figsize=figsize)\n",
    "    \n",
    "    norm = mcolors.Normalize(vmin=0, vmax=127)\n",
    "    if cmap != 'viridis':\n",
    "        cmap = cm.get_cmap(cmap)\n",
    "    else:\n",
    "        cmap = cm.viridis\n",
    "    vel_color = cmap(norm(velocities))\n",
    "\n",
    "    for i in range(len(note_start)):\n",
    "        ax.hlines(scaled_pitches[i], note_start[i], note_end[i],\n",
    "                  colors=vel_color[i], linewidth=10, alpha=0.5)\n",
    "    if show_colorbar:\n",
    "        sm = cm.ScalarMappable(cmap=cmap, norm=norm)\n",
    "        sm.set_array(velocities)\n",
    "        cbar = fig.colorbar(sm, ax=ax)\n",
    "        cbar.set_label('Velocity')\n",
    "    \n",
    "    ax.set_xlim(0, np.max(note_end) + 1)\n",
    "    ax.set_xlabel('Time (s)')\n",
    "    ax.set_ylabel('Pitch')\n",
    "    ax.set_title('Piano Roll' if title is None else title)\n",
    "    fig.tight_layout()\n",
    "    if show:\n",
    "        plt.show()\n",
    "    return fig, ax\n",
    "\n",
    "\n",
    "def compare_reco_true(true: torch.Tensor|np.ndarray, reco: torch.Tensor|np.ndarray, figsize=(10, 4), threshold=0.5, show=True):\n",
    "    \"\"\"\n",
    "        Compares true and reconstructed piano rolls.\n",
    "    \"\"\"\n",
    "    fig, ax = plt.subplots(figsize=figsize, sharex=True)\n",
    "    plot_piano_roll_from_note_events(true, figsize=figsize, fig=fig, ax=ax, cmap='Blues', show=False)\n",
    "    plot_piano_roll_from_note_events(reco, figsize=figsize, fig=fig, ax=ax, cmap='Reds', show=False)\n",
    "\n",
    "    acc, iou, _ = pitch_match_accuracy_iou_ordered(\n",
    "        reco, true, iou_threshold=threshold\n",
    "    )\n",
    "    ax.set_title('Comparison of True and Reconstructed Piano Rolls (Accuracy: {:.2f}, $\\\\overline{{IoU}} = {:.2f}$)'.format(acc, iou.mean()))\n",
    "    legend_elements = [\n",
    "        Patch(facecolor='blue', label='True'),\n",
    "        Patch(facecolor='red', label='Reconstructed'),\n",
    "    ]\n",
    "    plt.legend(handles=legend_elements)\n",
    "    if show:\n",
    "        plt.show()\n",
    "    return fig, ax"
   ]
  },
  {
   "cell_type": "code",
   "execution_count": 21,
   "id": "d582dbab",
   "metadata": {},
   "outputs": [
    {
     "name": "stderr",
     "output_type": "stream",
     "text": [
      "C:\\Users\\PC\\AppData\\Local\\Temp\\ipykernel_4048\\2980035618.py:37: MatplotlibDeprecationWarning: The get_cmap function was deprecated in Matplotlib 3.7 and will be removed in 3.11. Use ``matplotlib.colormaps[name]`` or ``matplotlib.colormaps.get_cmap()`` or ``pyplot.get_cmap()`` instead.\n",
      "  cmap = cm.get_cmap(cmap)\n"
     ]
    },
    {
     "data": {
      "image/png": "[encoded data removed]",
      "text/plain": [
       "<Figure size 1000x400 with 3 Axes>"
      ]
     },
     "metadata": {},
     "output_type": "display_data"
    }
   ],
   "source": [
    "compare_reco_true(sample.squeeze(0), reconstructed_seq)\n",
    "None"
   ]
  },
  {
   "cell_type": "code",
   "execution_count": 22,
   "id": "ff1ba8e1",
   "metadata": {},
   "outputs": [
    {
     "name": "stderr",
     "output_type": "stream",
     "text": [
      "100%|██████████| 128/128 [00:00<00:00, 364.59it/s]\n"
     ]
    }
   ],
   "source": [
    "generated = model.sample(seq_len=128, device='cuda')"
   ]
  },
  {
   "cell_type": "code",
   "execution_count": 36,
   "id": "b06769d7",
   "metadata": {},
   "outputs": [],
   "source": [
    "generated_seq = torch.stack([\n",
    "    torch.tensor(generated['pitch'], dtype=torch.int32),\n",
    "    torch.tensor(generated['velocity'], dtype=torch.float32),\n",
    "    torch.tensor(generated['time'], dtype=torch.float32),\n",
    "    torch.tensor(generated['duration'], dtype=torch.float32),\n",
    "], dim=-1)\n",
    "\n",
    "threshold = 0.2 # Set your velocity threshold\n",
    "generated_seq = generated_seq[generated_seq[:, 1] >= threshold]"
   ]
  },
  {
   "cell_type": "code",
   "execution_count": 37,
   "id": "d28fb41a",
   "metadata": {},
   "outputs": [
    {
     "data": {
      "image/png": "[encoded data removed]",
      "text/plain": [
       "<Figure size 1000x400 with 2 Axes>"
      ]
     },
     "metadata": {},
     "output_type": "display_data"
    }
   ],
   "source": [
    "plot_piano_roll_from_note_events(generated_seq, show=True)\n",
    "None"
   ]
  },
  {
   "cell_type": "code",
   "execution_count": 25,
   "id": "7996925b",
   "metadata": {},
   "outputs": [
    {
     "name": "stderr",
     "output_type": "stream",
     "text": [
      "100%|██████████| 573/573 [00:15<00:00, 36.08it/s] \n"
     ]
    },
    {
     "data": {
      "image/png": "[encoded data removed]",
      "text/plain": [
       "<Figure size 640x480 with 1 Axes>"
      ]
     },
     "metadata": {},
     "output_type": "display_data"
    }
   ],
   "source": [
    "\n",
    "@torch.inference_mode\n",
    "def plot_pca(samples: list[tuple[torch.Tensor, torch.Tensor]]):\n",
    "    all_latents = []\n",
    "    for mu, logvar in samples:\n",
    "        reparam = mu + torch.randn_like(logvar) * torch.exp(0.5 * logvar)\n",
    "        all_latents.append(reparam.cpu().numpy())\n",
    "\n",
    "    all_latents = np.concatenate(all_latents, axis=0)\n",
    "    pca = PCA(n_components=2)\n",
    "    reduced = pca.fit_transform(all_latents)\n",
    "\n",
    "    plt.scatter(reduced[:, 0], reduced[:, 1])\n",
    "    plt.title(\"PCA of Latent Space\")\n",
    "    plt.xlabel(\"PC1\")\n",
    "    plt.ylabel(\"PC2\")\n",
    "    plt.show()\n",
    "\n",
    "model.eval()\n",
    "eg_samples = []\n",
    "with torch.no_grad():\n",
    "    for t in tqdm(val_dl, desc=f\"\"):\n",
    "        t = t.cuda()\n",
    "        r = model(t)\n",
    "        eg_samples.append((r['mu'], r['logvar']))\n",
    "\n",
    "plot_pca(eg_samples)"
   ]
  },
  {
   "cell_type": "code",
   "execution_count": null,
   "id": "f0f41570",
   "metadata": {},
   "outputs": [],
   "source": []
  },
  {
   "cell_type": "code",
   "execution_count": 26,
   "id": "1197a8a2",
   "metadata": {},
   "outputs": [],
   "source": [
    "def tensor_to_piano_roll(note_tensor, fs: int = 64, pitch_range=(24, 84)) -> torch.Tensor:\n",
    "    \"\"\"\n",
    "    Converts a [N, 4] note tensor (pitch, velocity, delta_start, duration) to a [T, P] piano roll.\n",
    "    \n",
    "    :param note_tensor: torch.Tensor or np.ndarray with shape [N, 4]\n",
    "    :param fs: Frames per second (sampling rate of piano roll)\n",
    "    :param pitch_range: Tuple indicating the pitch range (inclusive)\n",
    "    :return: torch.Tensor of shape [T, P] with values in range [0, 1]\n",
    "    \"\"\"\n",
    "    if isinstance(note_tensor, torch.Tensor):\n",
    "        note_tensor = note_tensor.detach().cpu().numpy()\n",
    "\n",
    "    if note_tensor is None or len(note_tensor) == 0:\n",
    "        return torch.zeros((1, pitch_range[1] - pitch_range[0]))\n",
    "\n",
    "    pitches = note_tensor[:, 0].astype(int)\n",
    "    velocities = note_tensor[:, 1]\n",
    "    delta_starts = note_tensor[:, 2] * 255.0\n",
    "    durations = note_tensor[:, 3] * 7.0\n",
    "\n",
    "    start_times = np.cumsum(delta_starts)\n",
    "    end_times = start_times + durations\n",
    "\n",
    "    max_time = int(np.ceil(end_times.max() * fs)) + 1\n",
    "    num_pitches = pitch_range[1] - pitch_range[0]\n",
    "    piano_roll = np.zeros((max_time, num_pitches), dtype=np.float32)\n",
    "\n",
    "    for i in range(len(note_tensor)):\n",
    "        pitch = int(pitches[i])\n",
    "        velocity = velocities[i]\n",
    "        start_idx = int(np.round(start_times[i] * fs))\n",
    "        end_idx = int(np.round(end_times[i] * fs))\n",
    "        pitch_idx = pitch - pitch_range[0]\n",
    "        if 0 <= pitch_idx < num_pitches:\n",
    "            piano_roll[start_idx:end_idx, pitch_idx] = velocity\n",
    "\n",
    "    return torch.tensor(piano_roll, dtype=torch.float32)\n"
   ]
  },
  {
   "cell_type": "code",
   "execution_count": 27,
   "id": "e0a274e0",
   "metadata": {},
   "outputs": [],
   "source": [
    "gen_piano_roll = tensor_to_piano_roll(generated_seq, pitch_range=(2,62))\n",
    "piano_roll_to_pretty_midi(gen_piano_roll, fs=64, path=\"genereted.mid\")"
   ]
  }
 ],
 "metadata": {
  "kernelspec": {
   "display_name": ".venv",
   "language": "python",
   "name": "python3"
  },
  "language_info": {
   "codemirror_mode": {
    "name": "ipython",
    "version": 3
   },
   "file_extension": ".py",
   "mimetype": "text/x-python",
   "name": "python",
   "nbconvert_exporter": "python",
   "pygments_lexer": "ipython3",
   "version": "3.11.3"
  }
 },
 "nbformat": 4,
 "nbformat_minor": 5
}
